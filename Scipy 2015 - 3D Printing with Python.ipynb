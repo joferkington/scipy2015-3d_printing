{
 "cells": [
  {
   "cell_type": "markdown",
   "metadata": {
    "slideshow": {
     "slide_type": "slide"
    }
   },
   "source": [
    "# Touch your data! 3D Color Printing with Python\n",
    "  - Joe Kington, Chevron\n",
    "\n",
    "<img src=\"images/3d_seismic_together.jpg\" style=\"float: left; width: 30%; margin-left: 4%;\">\n",
    "<img src=\"images/3d_seismic_hand.jpg\" style=\"float: left; width: 30%; margin-left: 1%;\">\n",
    "<img src=\"images/alaska_model_textured.jpg\" style=\"float: left; width: 30%; margin-left: 1%;\">"
   ]
  },
  {
   "cell_type": "markdown",
   "metadata": {
    "slideshow": {
     "slide_type": "slide"
    }
   },
   "source": [
    "# But First, Puppies!!\n",
    "<img src=\"images/darlin_cute.jpg\" width=90%>"
   ]
  },
  {
   "cell_type": "markdown",
   "metadata": {
    "slideshow": {
     "slide_type": "slide"
    }
   },
   "source": [
    "<img src=\"images/darlin_crazy.jpg\" width=100%>"
   ]
  },
  {
   "cell_type": "markdown",
   "metadata": {
    "slideshow": {
     "slide_type": "slide"
    }
   },
   "source": [
    "<img src=\"images/darlin_upside_down.jpg\" width=100%>"
   ]
  },
  {
   "cell_type": "markdown",
   "metadata": {
    "collapsed": true,
    "slideshow": {
     "slide_type": "slide"
    }
   },
   "source": [
    "# You can 3D print your dog!\n",
    "http://www.artylobster.com/testimonials.html\n",
    "\n",
    "http://www.petprints3d.com/\n"
   ]
  },
  {
   "cell_type": "markdown",
   "metadata": {
    "slideshow": {
     "slide_type": "slide"
    }
   },
   "source": [
    "<img src=\"images/arty_lobster_snapshot.png\" width=100%>"
   ]
  },
  {
   "cell_type": "markdown",
   "metadata": {
    "collapsed": true,
    "slideshow": {
     "slide_type": "slide"
    }
   },
   "source": [
    "# So why can't we 3D print Geology?"
   ]
  },
  {
   "cell_type": "markdown",
   "metadata": {
    "slideshow": {
     "slide_type": "fragment"
    }
   },
   "source": [
    "  * Some people already are: e.g. [GeoFabLab](http://www.public.iastate.edu/~franek/gfl/gfl.html)"
   ]
  },
  {
   "cell_type": "markdown",
   "metadata": {
    "slideshow": {
     "slide_type": "fragment"
    }
   },
   "source": [
    "  * Quick shout out to Brendan Sullivan: This is his idea/question"
   ]
  },
  {
   "cell_type": "markdown",
   "metadata": {
    "slideshow": {
     "slide_type": "fragment"
    }
   },
   "source": [
    "  * It needs to be useful, but **often comes off as gimmicky**"
   ]
  },
  {
   "cell_type": "markdown",
   "metadata": {
    "slideshow": {
     "slide_type": "slide"
    }
   },
   "source": [
    "# How do we avoid the gimmicks?"
   ]
  },
  {
   "cell_type": "markdown",
   "metadata": {
    "slideshow": {
     "slide_type": "fragment"
    }
   },
   "source": [
    "  * Form is _not enough_ for geoscience"
   ]
  },
  {
   "cell_type": "markdown",
   "metadata": {
    "slideshow": {
     "slide_type": "fragment"
    }
   },
   "source": [
    "  * Need color 3D printing!"
   ]
  },
  {
   "cell_type": "markdown",
   "metadata": {
    "slideshow": {
     "slide_type": "fragment"
    }
   },
   "source": [
    "  * **Need to find the right niche**"
   ]
  },
  {
   "cell_type": "markdown",
   "metadata": {
    "slideshow": {
     "slide_type": "slide"
    }
   },
   "source": [
    "# Communication Tool, not a Visualization Tool"
   ]
  },
  {
   "cell_type": "code",
   "execution_count": 1,
   "metadata": {
    "collapsed": false,
    "slideshow": {
     "slide_type": "fragment"
    }
   },
   "outputs": [
    {
     "name": "stderr",
     "output_type": "stream",
     "text": [
      "WARNING:traits.has_traits:DEPRECATED: traits.has_traits.wrapped_class, 'the 'implements' class advisor has been deprecated. Use the 'provides' class decorator.\n",
      "/home/jofer/anaconda/lib/python2.7/site-packages/traits/has_traits.py:1766: FutureWarning: comparison to `None` will result in an elementwise object comparison in the future.\n",
      "  setattr( self, name, value )\n"
     ]
    }
   ],
   "source": [
    "%run slice_3d_example.py"
   ]
  },
  {
   "cell_type": "markdown",
   "metadata": {
    "slideshow": {
     "slide_type": "slide"
    }
   },
   "source": [
    "# Communication Tool, not a Visualization Tool"
   ]
  },
  {
   "cell_type": "markdown",
   "metadata": {
    "slideshow": {
     "slide_type": "fragment"
    }
   },
   "source": [
    "  * Each individual drives the interaction"
   ]
  },
  {
   "cell_type": "markdown",
   "metadata": {
    "slideshow": {
     "slide_type": "fragment"
    }
   },
   "source": [
    "  * Physical is the original interactive"
   ]
  },
  {
   "cell_type": "markdown",
   "metadata": {
    "slideshow": {
     "slide_type": "fragment"
    }
   },
   "source": [
    "  * Our Niche: Communication with non-expert audience"
   ]
  },
  {
   "cell_type": "markdown",
   "metadata": {
    "slideshow": {
     "slide_type": "slide"
    }
   },
   "source": [
    "# Great, but what about python?"
   ]
  },
  {
   "cell_type": "markdown",
   "metadata": {
    "slideshow": {
     "slide_type": "fragment"
    }
   },
   "source": [
    "  * Mayavi / mlab / tvtk to the rescue!\n",
    "    - VTK is fantastic for visualizing 3D datasets\n",
    "    - Mayavi/mlab/tvtk are more pythonic"
   ]
  },
  {
   "cell_type": "markdown",
   "metadata": {
    "slideshow": {
     "slide_type": "fragment"
    }
   },
   "source": [
    "  * VRML is the de-facto standard for _color_ 3D printing\n",
    "    - `fig.scene.save_vrml(filename)`"
   ]
  },
  {
   "cell_type": "markdown",
   "metadata": {
    "slideshow": {
     "slide_type": "slide"
    }
   },
   "source": [
    "# Big Caveat: You need to verify printability!!"
   ]
  },
  {
   "cell_type": "code",
   "execution_count": 3,
   "metadata": {
    "collapsed": true
   },
   "outputs": [],
   "source": [
    "# %load mayavi_logo.py\n",
    "\"\"\"\n",
    "A script to generate the Mayavi logo: a Boy surface.\n",
    "\n",
    "The boy surface is a mathematical parametric surface, see\n",
    "http://en.wikipedia.org/wiki/Boy%27s_surface . We display it by sampling\n",
    "the two parameters of the surface on a grid and using the mlab's mesh\n",
    "function: :func:`mayavi.mlab.mesh`.\n",
    "\"\"\"\n",
    "\n",
    "# Author: Gael Varoquaux <gael.varoquaux@normalesup.org>\n",
    "# Copyright (c) 2007, Enthought, Inc.\n",
    "# License: BSD Style.\n",
    "\n",
    "\n",
    "from numpy import sin, cos, mgrid, pi, sqrt\n",
    "from mayavi import mlab\n",
    "\n",
    "import utils\n",
    "\n",
    "fig = mlab.figure(fgcolor=(0, 0, 0), bgcolor=(1, 1, 1))\n",
    "u, v = mgrid[- 0.035:pi:0.01, - 0.035:pi:0.01]\n",
    "\n",
    "X = 2 / 3. * (cos(u) * cos(2 * v)\n",
    "        + sqrt(2) * sin(u) * cos(v)) * cos(u) / (sqrt(2) -\n",
    "                                                 sin(2 * u) * sin(3 * v))\n",
    "Y = 2 / 3. * (cos(u) * sin(2 * v) -\n",
    "        sqrt(2) * sin(u) * sin(v)) * cos(u) / (sqrt(2)\n",
    "        - sin(2 * u) * sin(3 * v))\n",
    "Z = -sqrt(2) * cos(u) * cos(u) / (sqrt(2) - sin(2 * u) * sin(3 * v))\n",
    "S = sin(u)\n",
    "\n",
    "mlab.mesh(X, Y, Z, scalars=S, colormap='YlGnBu', )\n",
    "\n",
    "# Nice view from the front\n",
    "mlab.view(.0, - 5.0, 4)\n",
    "\n",
    "utils.present(fig)\n"
   ]
  },
  {
   "cell_type": "markdown",
   "metadata": {
    "slideshow": {
     "slide_type": "slide"
    }
   },
   "source": [
    "# The building blocks for a topographic model"
   ]
  },
  {
   "cell_type": "code",
   "execution_count": 5,
   "metadata": {
    "collapsed": false,
    "slideshow": {
     "slide_type": "-"
    }
   },
   "outputs": [],
   "source": [
    "import numpy as np\n",
    "from mayavi import mlab\n",
    "from osgeo import gdal\n",
    "gdal.UseExceptions()\n",
    "\n",
    "import utils\n",
    "\n",
    "z = gdal.Open('data/alaska/clipped_elev.tif').ReadAsArray()\n",
    "\n",
    "fig = mlab.figure()\n",
    "mlab.surf(z, warp_scale=0.05, colormap='gist_earth')\n",
    "utils.present(fig) # Normally, we'd call mlab.show()"
   ]
  },
  {
   "cell_type": "markdown",
   "metadata": {
    "slideshow": {
     "slide_type": "slide"
    }
   },
   "source": [
    "# Let's worry about true vertical exaggeration"
   ]
  },
  {
   "cell_type": "code",
   "execution_count": 6,
   "metadata": {
    "collapsed": false
   },
   "outputs": [],
   "source": [
    "def read(filename):\n",
    "    ds = gdal.Open(filename)\n",
    "    elev = ds.ReadAsArray()\n",
    "\n",
    "    # True x, y coordinates\n",
    "    x0, dx, dxdy, y0, dydx, dy = ds.GetGeoTransform()\n",
    "    i, j = np.mgrid[:elev.shape[0], :elev.shape[1]]\n",
    "    x = x0 + dx * j + dxdy * i\n",
    "    y = y0 + dy * i + dydx * j\n",
    "\n",
    "    return ds.ReadAsArray(), x, y\n",
    "\n",
    "z, x, y = read('data/alaska/clipped_elev.tif')\n",
    "\n",
    "fig = mlab.figure()\n",
    "mlab.mesh(x, y, z, colormap='gist_earth')\n",
    "utils.present(fig)"
   ]
  },
  {
   "cell_type": "markdown",
   "metadata": {
    "slideshow": {
     "slide_type": "slide"
    }
   },
   "source": [
    "# Now, let's make it a printable model"
   ]
  },
  {
   "cell_type": "code",
   "execution_count": 7,
   "metadata": {
    "collapsed": false,
    "slideshow": {
     "slide_type": "-"
    }
   },
   "outputs": [],
   "source": [
    "z, x, y = read('data/alaska/clipped_elev.tif')\n",
    "\n",
    "xpad, ypad, bottomz = [np.pad(item, 1, mode='edge') for item in x, y, z]\n",
    "bottomz[1:-1, 1:-1] = -1000\n",
    "\n",
    "fig = mlab.figure()\n",
    "mlab.mesh(x, y, z, colormap='gist_earth')\n",
    "\n",
    "# Add the bottom\n",
    "mlab.mesh(xpad, ypad, bottomz, color=(1,1,1)) # Inefficient, but okay for now...\n",
    "\n",
    "utils.present(fig)"
   ]
  },
  {
   "cell_type": "markdown",
   "metadata": {
    "slideshow": {
     "slide_type": "slide"
    }
   },
   "source": [
    "# But what about scale??"
   ]
  },
  {
   "cell_type": "code",
   "execution_count": 8,
   "metadata": {
    "collapsed": false
   },
   "outputs": [],
   "source": [
    "fig = mlab.figure()\n",
    "mlab.mesh(x - x.min(), y - y.min(), z, colormap='gist_earth')\n",
    "mlab.axes()\n",
    "utils.present(fig)"
   ]
  },
  {
   "cell_type": "markdown",
   "metadata": {
    "slideshow": {
     "slide_type": "slide"
    }
   },
   "source": [
    "# VTK let's us \"shrink\" things"
   ]
  },
  {
   "cell_type": "code",
   "execution_count": 9,
   "metadata": {
    "collapsed": false,
    "slideshow": {
     "slide_type": "-"
    }
   },
   "outputs": [],
   "source": [
    "import mayavi.tools\n",
    "\n",
    "def scale(fig, ratio):\n",
    "    \"\"\"Scales a Mayavi figure and resets the camera.\"\"\"\n",
    "    for actor in fig.scene.renderer.actors:\n",
    "        actor.scale = actor.scale * ratio\n",
    "    mayavi.tools.camera.view(distance='auto', focalpoint='auto', figure=fig)\n",
    "    \n",
    "fig = mlab.figure()\n",
    "mesh = mlab.mesh(x - x.min(), y - y.min(), z, colormap='gist_earth')\n",
    "mlab.mesh(xpad, ypad, bottomz, color=(1,1,1))\n",
    "\n",
    "scale(fig, 0.0001)\n",
    "mlab.axes()\n",
    "utils.present(fig)"
   ]
  },
  {
   "cell_type": "markdown",
   "metadata": {
    "slideshow": {
     "slide_type": "slide"
    }
   },
   "source": [
    "# Or expand them"
   ]
  },
  {
   "cell_type": "code",
   "execution_count": 10,
   "metadata": {
    "collapsed": false
   },
   "outputs": [],
   "source": [
    "fig = mlab.figure()\n",
    "mesh = mlab.mesh(x, y, z, colormap='gist_earth')\n",
    "mlab.mesh(xpad, ypad, bottomz, color=(1,1,1))\n",
    "\n",
    "utils.scale(fig, 0.0001)\n",
    "utils.scale(fig, [1, 1, 2.5]) # Apply vertical exaggeration\n",
    "utils.present(fig)"
   ]
  },
  {
   "cell_type": "markdown",
   "metadata": {
    "slideshow": {
     "slide_type": "slide"
    }
   },
   "source": [
    "# But what we really want to do is \"drape\" data on a surface...\n",
    "<img src=\"images/geology.png\" width=90%>"
   ]
  },
  {
   "cell_type": "markdown",
   "metadata": {
    "slideshow": {
     "slide_type": "slide"
    }
   },
   "source": [
    "# In 3D modeling terms, this is a \"texture\""
   ]
  },
  {
   "cell_type": "code",
   "execution_count": 11,
   "metadata": {
    "collapsed": false,
    "slideshow": {
     "slide_type": "-"
    }
   },
   "outputs": [],
   "source": [
    "from tvtk.api import tvtk\n",
    "\n",
    "def texture(mesh, fname, clamp=True):\n",
    "    img = tvtk.PNGReader(file_name=fname).output\n",
    "    t = tvtk.Texture(input=img, interpolate=True, edge_clamp=clamp)\n",
    "    \n",
    "    mesh.actor.enable_texture = True\n",
    "    mesh.actor.actor.texture = t\n",
    "    mesh.actor.tcoord_generator_mode = 'plane'\n",
    "    mesh.actor.mapper.scalar_visibility = False\n",
    "    \n",
    "fig = mlab.figure()\n",
    "mlab.mesh(xpad, ypad, bottomz, color=(1,1,1))\n",
    "\n",
    "mesh = mlab.mesh(x, y, z)\n",
    "texture(mesh, \"images/geology.png\")\n",
    "\n",
    "utils.scale(fig, 0.0001 * np.array([1, 1, 2.5]))\n",
    "utils.present(fig)\n"
   ]
  },
  {
   "cell_type": "markdown",
   "metadata": {
    "slideshow": {
     "slide_type": "slide"
    }
   },
   "source": [
    "<img src=\"images/alaska_model_no_texture.jpg\" width=100%>"
   ]
  },
  {
   "cell_type": "markdown",
   "metadata": {
    "slideshow": {
     "slide_type": "slide"
    }
   },
   "source": [
    "# One caveat with Shapeways\n",
    "  * Shapeways (and some other 3D printing services) doesn't like \"embedded\" textures in VRML"
   ]
  },
  {
   "cell_type": "markdown",
   "metadata": {
    "slideshow": {
     "slide_type": "fragment"
    }
   },
   "source": [
    "  * Solution - un-embed the textures"
   ]
  },
  {
   "cell_type": "code",
   "execution_count": null,
   "metadata": {
    "collapsed": true
   },
   "outputs": [],
   "source": []
  },
  {
   "cell_type": "code",
   "execution_count": null,
   "metadata": {
    "collapsed": true
   },
   "outputs": [],
   "source": [
    "# %load shapeways_io.py\n",
    "import os\n",
    "import binascii\n",
    "import tempfile\n",
    "from zipfile import ZipFile, ZIP_DEFLATED\n",
    "from cStringIO import StringIO\n",
    "\n",
    "import numpy as np\n",
    "import Image\n",
    "\n",
    "def save_vrml(fig, output_filename):\n",
    "    \"\"\"\n",
    "    Saves a Mayavi figure as shapeways-formatted VRML in a zip file.\n",
    "\n",
    "    Parameters\n",
    "    ----------\n",
    "    fig : a Mayavi/mlab figure\n",
    "    output_filename : string\n",
    "    \"\"\"\n",
    "    _, fname = tempfile.mkstemp()\n",
    "    fig.scene.save_vrml(fname)\n",
    "\n",
    "    wrl_name = os.path.basename(output_filename).rstrip('.zip')\n",
    "    vrml2shapeways(fname, output_filename, wrl_name)\n",
    "\n",
    "    os.remove(fname)\n",
    "\n",
    "def vrml2shapeways(filename, output_filename, wrl_name=None):\n",
    "    \"\"\"\n",
    "    Un-embededs images from a vrml file and creates a zip archive with the\n",
    "    images saved as .png's and the vrml file with links to the images.\n",
    "\n",
    "    Parameters\n",
    "    ----------\n",
    "    filename : string\n",
    "        The name of the input VRML file\n",
    "    output_filename : string\n",
    "        The filename of the zip archive that will be created.\n",
    "    wrl_name : string or None (optional)\n",
    "        The name of the VRML file in the zip archive. If None, this will be\n",
    "        taken from *filename*.\n",
    "    \"\"\"\n",
    "    if not output_filename.endswith('.zip'):\n",
    "        output_filename += '.zip'\n",
    "\n",
    "    with ZipFile(output_filename, 'w', ZIP_DEFLATED) as z:\n",
    "        if wrl_name is None:\n",
    "            wrl_name = os.path.basename(filename)\n",
    "        if not wrl_name.endswith('.wrl'):\n",
    "            wrl_name += '.wrl'\n",
    "\n",
    "        outfile = StringIO()\n",
    "        with open(filename, 'r') as infile:\n",
    "            images = unembed_wrl_images(infile, outfile)\n",
    "        z.writestr(wrl_name, outfile.getvalue())\n",
    "\n",
    "        for fname, im in images.iteritems():\n",
    "            outfile = StringIO()\n",
    "            im.save(outfile, format='png')\n",
    "            z.writestr(fname, outfile.getvalue())\n",
    "\n",
    "def unembed_wrl_images(infile, outfile):\n",
    "    \"\"\"\n",
    "    Converts embedded images in a VRML file to linked .png's.\n",
    "\n",
    "    Parameters\n",
    "    ----------\n",
    "    infile : file-like object\n",
    "    outfile: file-like object\n",
    "\n",
    "    Returns\n",
    "    -------\n",
    "    images : a dict of filename : PIL Image pairs\n",
    "\n",
    "    Notes:\n",
    "    -----\n",
    "    Should use a proper parser instead of just iterating line-by-line...\n",
    "    \"\"\"\n",
    "    i = 1\n",
    "    images = {}\n",
    "    for line in infile:\n",
    "        if 'texture' in line:\n",
    "            data, width, height = read_texture_wrl(infile)\n",
    "            image_filename = 'texture_{}.png'.format(i)\n",
    "            im = ascii2image_wrl(data, width, height)\n",
    "            line = '            texture ImageTexture {{ url [\"{}\"]}}'\n",
    "            line = line.format(image_filename)\n",
    "            images[image_filename] = im\n",
    "            i += 1\n",
    "        outfile.write(line)\n",
    "    return images\n",
    "\n",
    "def read_texture_wrl(infile):\n",
    "    \"\"\"\n",
    "    Reads hexlified image data from the current position in a VRML file.\n",
    "    \"\"\"\n",
    "    header = next(infile).strip().split()\n",
    "    width, height, nbands = map(int, header[1:])\n",
    "\n",
    "    data = []\n",
    "    for line in infile:\n",
    "        line = line.strip().split()\n",
    "        for item in line:\n",
    "            if item.startswith('0x'):\n",
    "                data.append(item)\n",
    "            else:\n",
    "                return data, width, height\n",
    "\n",
    "def ascii2image_wrl(data, width, height):\n",
    "    \"\"\"\n",
    "    Converts hexlified data in VRML to a PIL image.\n",
    "    \"\"\"\n",
    "    if len(data[0]) == 8:\n",
    "        nbands = 3\n",
    "    elif len(data[0]) == 10:\n",
    "        nbands = 4\n",
    "    else:\n",
    "        raise ValueError('Unrecognized data type for image data')\n",
    "\n",
    "    results = []\n",
    "    for item in data:\n",
    "        results.append(binascii.unhexlify(item[2:]))\n",
    "    data = results\n",
    "    data = ''.join(data)\n",
    "    dat = np.fromstring(data, dtype=np.uint8).reshape(height, width, nbands)\n",
    "    dat = np.roll(dat, nbands, -1)\n",
    "    dat = np.flipud(dat)\n",
    "    im = Image.fromarray(dat)\n",
    "    return im\n"
   ]
  },
  {
   "cell_type": "markdown",
   "metadata": {
    "slideshow": {
     "slide_type": "slide"
    }
   },
   "source": [
    "# Let's add some nice textures on the sides..."
   ]
  },
  {
   "cell_type": "markdown",
   "metadata": {
    "slideshow": {
     "slide_type": "slide"
    }
   },
   "source": [
    "# First, let's build the sides individually"
   ]
  },
  {
   "cell_type": "code",
   "execution_count": null,
   "metadata": {
    "collapsed": true
   },
   "outputs": [],
   "source": [
    "def build_sides(x, y, z, level):\n",
    "    slices = [np.s_[:,0], np.s_[:,-1], np.s_[0,:], np.s_[-1,:]]\n",
    "    for sl in slices:\n",
    "        build_side(x[sl], y[sl], z[sl], level)\n",
    "\n",
    "def build_side(x, y, z, base_level):\n",
    "    x = np.vstack([x, x])\n",
    "    y = np.vstack([y, y])\n",
    "    z = np.vstack([z, base_level * np.ones_like(z)])\n",
    "\n",
    "    mesh = mlab.mesh(x, y, z, color=(1, 1, 1))\n",
    "    return mesh\n",
    "\n",
    "def build_bottom(x, y, z, level):\n",
    "    i = [-1, -1, 0, 0]\n",
    "    j = [0, -1, 0, -1]\n",
    "    corners = lambda item: item[i, j].reshape(2, 2)\n",
    "    mlab.mesh(corners(x), corners(y), level * np.ones((2,2)), color=(1, 1, 1))"
   ]
  },
  {
   "cell_type": "markdown",
   "metadata": {
    "slideshow": {
     "slide_type": "slide"
    }
   },
   "source": [
    "# Then we can texture them individually"
   ]
  },
  {
   "cell_type": "code",
   "execution_count": 13,
   "metadata": {
    "collapsed": false
   },
   "outputs": [],
   "source": [
    "def build_bottom(x, y, z, level):\n",
    "    i = [-1, -1, 0, 0]\n",
    "    j = [0, -1, 0, -1]\n",
    "    corners = lambda item: item[i, j].reshape(2, 2)\n",
    "    bottom = mlab.mesh(corners(x), corners(y), level * np.ones((2,2)))\n",
    "\n",
    "    utils.texture(bottom, fname='data/alaska/bottom_annotated.png', clamp=False)\n",
    "    return bottom\n",
    "\n",
    "def build_sides(x, y, z, level):\n",
    "    images = ['left_annotated_halo.png', 'right_annotated_halo.png',\n",
    "              'back_annotated_halo.png', 'front_annotated_halo.png']\n",
    "\n",
    "    slices = [np.s_[:,0], np.s_[:,-1], np.s_[0,:], np.s_[-1,:]]\n",
    "    for sl, im in zip(slices, images):\n",
    "        image = 'data/alaska/' + im\n",
    "        build_side(x[sl], y[sl], z[sl], level, image)\n",
    "        \n",
    "def build_side(x, y, z, level, fname):\n",
    "        x = np.vstack([x, x])\n",
    "        y = np.vstack([y, y])\n",
    "        ze = np.vstack([z, level * np.ones_like(z)])\n",
    "\n",
    "        mesh = mlab.mesh(x, y, z)\n",
    "        utils.texture(mesh, fname=image)\n",
    "        \n",
    "%run alaska_model_textured_sides.py"
   ]
  },
  {
   "cell_type": "markdown",
   "metadata": {
    "slideshow": {
     "slide_type": "slide"
    }
   },
   "source": [
    "<img src=\"images/alaska_model_textured.jpg\" width=100%>"
   ]
  },
  {
   "cell_type": "markdown",
   "metadata": {
    "slideshow": {
     "slide_type": "slide"
    }
   },
   "source": [
    "# We can extend the same idea to seismic data"
   ]
  },
  {
   "cell_type": "code",
   "execution_count": 14,
   "metadata": {
    "collapsed": true
   },
   "outputs": [],
   "source": [
    "%run slice_3d_example.py"
   ]
  },
  {
   "cell_type": "markdown",
   "metadata": {
    "slideshow": {
     "slide_type": "slide"
    }
   },
   "source": [
    "# Now we'll do the same thing as the topographic model, but texture the sides with seismic data"
   ]
  },
  {
   "cell_type": "code",
   "execution_count": 15,
   "metadata": {
    "collapsed": true
   },
   "outputs": [],
   "source": [
    "%run make_base.py"
   ]
  },
  {
   "cell_type": "markdown",
   "metadata": {
    "slideshow": {
     "slide_type": "slide"
    }
   },
   "source": [
    "<img src=\"images/base.jpg\" width=100%>"
   ]
  },
  {
   "cell_type": "markdown",
   "metadata": {
    "slideshow": {
     "slide_type": "slide"
    }
   },
   "source": [
    "# We can even use another horizon as the \"base\" for the sides"
   ]
  },
  {
   "cell_type": "code",
   "execution_count": 16,
   "metadata": {
    "collapsed": true
   },
   "outputs": [],
   "source": [
    "%run make_top.py"
   ]
  },
  {
   "cell_type": "markdown",
   "metadata": {
    "slideshow": {
     "slide_type": "slide"
    }
   },
   "source": [
    "<img src=\"images/3d_seismic_apart.jpg\" width=40%>"
   ]
  },
  {
   "cell_type": "markdown",
   "metadata": {
    "collapsed": true,
    "slideshow": {
     "slide_type": "slide"
    }
   },
   "source": [
    "# Conclusions\n",
    "  * 3D printing can be a useful geoscience communication technique.\n",
    "  * Color or B&W is _vital_ for geoscience! More than just form.\n",
    "  * Generating printable models from real datasets is easy with scipy\n",
    "  * 3D printed 3D sesimic is nifty!"
   ]
  }
 ],
 "metadata": {
  "celltoolbar": "Slideshow",
  "kernelspec": {
   "display_name": "Python 2",
   "language": "python",
   "name": "python2"
  },
  "language_info": {
   "codemirror_mode": {
    "name": "ipython",
    "version": 2
   },
   "file_extension": ".py",
   "mimetype": "text/x-python",
   "name": "python",
   "nbconvert_exporter": "python",
   "pygments_lexer": "ipython2",
   "version": "2.7.10"
  }
 },
 "nbformat": 4,
 "nbformat_minor": 0
}
